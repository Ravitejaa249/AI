{
  "nbformat": 4,
  "nbformat_minor": 0,
  "metadata": {
    "colab": {
      "provenance": []
    },
    "kernelspec": {
      "name": "python3",
      "display_name": "Python 3"
    },
    "language_info": {
      "name": "python"
    }
  },
  "cells": [
    {
      "cell_type": "code",
      "execution_count": 23,
      "metadata": {
        "colab": {
          "base_uri": "https://localhost:8080/"
        },
        "id": "dScPbgOdp4DF",
        "outputId": "38be7ebb-0223-4b24-82cb-77b71abe2f89"
      },
      "outputs": [
        {
          "output_type": "stream",
          "name": "stdout",
          "text": [
            "A B C D E "
          ]
        }
      ],
      "source": [
        "class Graph:\n",
        "    def __init__(self):\n",
        "        self.graph = {}\n",
        "\n",
        "    def edge(self, u, v):\n",
        "        if u not in self.graph:\n",
        "            self.graph[u] = []\n",
        "        self.graph[u].append(v)\n",
        "\n",
        "    def depth_limited_search(self, start, limit):\n",
        "        stack = [(start, 0)]\n",
        "        visited = set()\n",
        "\n",
        "        while stack:\n",
        "            node, depth = stack.pop()\n",
        "            if node not in visited:\n",
        "                print(node, end=\" \")\n",
        "                visited.add(node)\n",
        "\n",
        "                if depth < limit:\n",
        "                    if node in self.graph:\n",
        "                        for neighbor in reversed(self.graph[node]):\n",
        "                            stack.append((neighbor, depth + 1))\n",
        "\n",
        "g = Graph()\n",
        "\n",
        "g.edge('A', 'B')\n",
        "g.edge('A', 'C')\n",
        "g.edge('A', 'D')\n",
        "g.edge('B', 'C')\n",
        "g.edge('B', 'D')\n",
        "g.edge('B', 'E')\n",
        "g.edge('C', 'D')\n",
        "g.edge('C', 'E')\n",
        "g.edge('C', 'F')\n",
        "g.edge('D', 'E')\n",
        "g.edge('D', 'F')\n",
        "g.edge('E', 'F')\n",
        "\n",
        "g.depth_limited_search('A', 2)\n"
      ]
    }
  ]
}