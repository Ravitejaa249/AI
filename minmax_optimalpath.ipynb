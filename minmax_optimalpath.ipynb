{
 "cells": [
  {
   "cell_type": "code",
   "execution_count": 29,
   "id": "bb05e6f3-5fa2-4c2d-ae59-8bda55a294b1",
   "metadata": {},
   "outputs": [
    {
     "name": "stdout",
     "output_type": "stream",
     "text": [
      "Optimal path for Figure 2: MAX(4) -> MIN(4) -> MAX(4) -> Leaf(4)\n"
     ]
    }
   ],
   "source": [
    "def optimal_path(level, pos, is_max, data):\n",
    "    if level == 3:\n",
    "        return data[pos], [f\"Leaf({data[pos]})\"]\n",
    "    if is_max:\n",
    "        chosen_score = float('-inf')\n",
    "        chosen_route = []\n",
    "        for i in range(2):\n",
    "            child_score, child_route = optimal_path(level + 1, pos * 2 + i, False, data)\n",
    "            if child_score > chosen_score:\n",
    "                chosen_score = child_score\n",
    "                chosen_route = [f\"MAX({chosen_score})\"] + child_route\n",
    "        return chosen_score, chosen_route\n",
    "    else:\n",
    "        chosen_score = float('inf')\n",
    "        chosen_route = []\n",
    "        for i in range(2):\n",
    "            child_score, child_route = optimal_path(level + 1, pos * 2 + i, True, data)\n",
    "            if child_score < chosen_score:\n",
    "                chosen_score = child_score\n",
    "                chosen_route = [f\"MIN({chosen_score})\"] + child_route\n",
    "        return chosen_score, chosen_route\n",
    "\n",
    "values_fig2 = [5, -1, 4, 3, -2, -5, 9, 8, 6, 1, -4, 2, 4, 7, 3, -3]\n",
    "_, path_fig2 = optimal_path(0, 0, True, values_fig2)\n",
    "print(\"Optimal path for Figure 2:\", \" -> \".join(path_fig2))\n"
   ]
  },
  {
   "cell_type": "code",
   "execution_count": 11,
   "id": "493d89e5-030a-44ec-b03e-2c143433f64e",
   "metadata": {},
   "outputs": [
    {
     "name": "stdout",
     "output_type": "stream",
     "text": [
      "Best Score: 5\n",
      "Optimal Path: A -> B2 -> C4\n"
     ]
    }
   ],
   "source": [
    "def three_way_minimax(level, node, is_max, leaf_values):\n",
    "    if level == 2:\n",
    "        return leaf_values[node], [f\"C{node + 1}\"]\n",
    "    if is_max:\n",
    "        best_score = float('-inf')\n",
    "        best_path = []\n",
    "        for i in range(3):\n",
    "            child_score, child_path = three_way_minimax(level + 1, node * 3 + i, False, leaf_values)\n",
    "            if child_score > best_score:\n",
    "                best_score = child_score\n",
    "                best_path = [f\"B{i + 1}\"] + child_path\n",
    "        return best_score, best_path\n",
    "    else:\n",
    "        best_score = float('inf')\n",
    "        best_path = []\n",
    "        for i in range(3):\n",
    "            child_score, child_path = three_way_minimax(level + 1, node * 3 + i, True, leaf_values)\n",
    "            if child_score < best_score:\n",
    "                best_score = child_score\n",
    "                best_path = child_path\n",
    "        return best_score, best_path\n",
    "\n",
    "leaf_values = [12, 10, 3, 5, 8, 10, 11, 2, 12]\n",
    "score, path = three_way_minimax(0, 0, True, leaf_values)\n",
    "print(f\"Best Score: {score}\")\n",
    "print(\"Optimal Path: A ->\", \" -> \".join(path))\n"
   ]
  },
  {
   "cell_type": "code",
   "execution_count": null,
   "id": "ba4b12b4-5880-47be-87b0-dc8792642b0e",
   "metadata": {},
   "outputs": [],
   "source": []
  }
 ],
 "metadata": {
  "kernelspec": {
   "display_name": "Python [conda env:base] *",
   "language": "python",
   "name": "conda-base-py"
  },
  "language_info": {
   "codemirror_mode": {
    "name": "ipython",
    "version": 3
   },
   "file_extension": ".py",
   "mimetype": "text/x-python",
   "name": "python",
   "nbconvert_exporter": "python",
   "pygments_lexer": "ipython3",
   "version": "3.12.7"
  }
 },
 "nbformat": 4,
 "nbformat_minor": 5
}
