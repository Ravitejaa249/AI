{
 "cells": [
  {
   "cell_type": "code",
   "execution_count": 27,
   "id": "adee3db7-e9d3-4708-b737-6dc69e05b271",
   "metadata": {},
   "outputs": [
    {
     "name": "stdout",
     "output_type": "stream",
     "text": [
      "Best Solution (Selected items): [0, 1, 1, 0, 0]\n",
      "Best Fitness (Total value): 220\n"
     ]
    }
   ],
   "source": [
    "import random\n",
    "\n",
    "knapsack_capacity = 50\n",
    "item_weights = [10, 20, 30, 40, 50]\n",
    "item_values = [60, 100, 120, 150, 200]\n",
    "population_size = 50\n",
    "generations = 100\n",
    "mutation_rate = 0.1\n",
    "tournament_size = 5  \n",
    "\n",
    "def genchromo():\n",
    "    return [random.choice([0, 1]) for _ in range(len(item_weights))]\n",
    "\n",
    "def initialize_population():\n",
    "    return [genchromo() for _ in range(population_size)]\n",
    "\n",
    "def cal_fitness(chromosome):\n",
    "    total_value = sum(c * v for c, v in zip(chromosome, item_values))\n",
    "    total_weight = sum(c * w for c, w in zip(chromosome, item_weights))\n",
    "    return total_value if total_weight <= knapsack_capacity else 0\n",
    "\n",
    "def tournament_selection(population):\n",
    "    selected_parents = []\n",
    "    for _ in range(population_size):\n",
    "        tournament = random.sample(population, tournament_size)\n",
    "        winner = max(tournament, key=cal_fitness)  \n",
    "        selected_parents.append(winner)\n",
    "    return selected_parents\n",
    "\n",
    "def two_point_crossover(parent1, parent2):\n",
    "    if len(parent1) < 2:\n",
    "        return parent1, parent2\n",
    "    \n",
    "    point1, point2 = sorted(random.sample(range(len(parent1)), 2))\n",
    "    child1 = parent1[:point1] + parent2[point1:point2] + parent1[point2:]\n",
    "    child2 = parent2[:point1] + parent1[point1:point2] + parent2[point2:]\n",
    "    return child1, child2\n",
    "\n",
    "def mutate(chromosome):\n",
    "    mutation_point = random.randint(0, len(chromosome) - 1)\n",
    "    chromosome[mutation_point] = 1 - chromosome[mutation_point]\n",
    "\n",
    "def apply_mutation(population):\n",
    "    for chromosome in population:\n",
    "        if random.random() < mutation_rate:\n",
    "            mutate(chromosome)\n",
    "\n",
    "def genetic_algorithm():\n",
    "    population = initialize_population()\n",
    "    \n",
    "    for _ in range(generations):\n",
    "        parents = tournament_selection(population)\n",
    "        offspring = []\n",
    "        for i in range(0, len(parents), 2):\n",
    "            if i + 1 < len(parents):\n",
    "                child1, child2 = two_point_crossover(parents[i], parents[i + 1])\n",
    "                offspring.extend([child1, child2])\n",
    "        apply_mutation(offspring)\n",
    "        population = offspring\n",
    "    \n",
    "    best_solution = max(population, key=cal_fitness)  \n",
    "    return best_solution, cal_fitness(best_solution)  \n",
    "\n",
    "best_solution, best_fitness = genetic_algorithm()\n",
    "print(\"Best Solution (Selected items):\", best_solution)\n",
    "print(\"Best Fitness (Total value):\", best_fitness)\n"
   ]
  },
  {
   "cell_type": "code",
   "execution_count": null,
   "id": "fe0345d1-9e7d-4774-9ed8-e2f94fc2950e",
   "metadata": {},
   "outputs": [],
   "source": []
  }
 ],
 "metadata": {
  "kernelspec": {
   "display_name": "Python [conda env:base] *",
   "language": "python",
   "name": "conda-base-py"
  },
  "language_info": {
   "codemirror_mode": {
    "name": "ipython",
    "version": 3
   },
   "file_extension": ".py",
   "mimetype": "text/x-python",
   "name": "python",
   "nbconvert_exporter": "python",
   "pygments_lexer": "ipython3",
   "version": "3.12.7"
  }
 },
 "nbformat": 4,
 "nbformat_minor": 5
}
